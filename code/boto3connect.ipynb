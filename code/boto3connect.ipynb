{
 "cells": [
  {
   "cell_type": "code",
   "execution_count": null,
   "metadata": {},
   "outputs": [],
   "source": [
    "import pandas as pd\n",
    "import json\n",
    "import os\n",
    "\n",
    "# Read the Excel file into a DataFrame\n",
    "excel_file = '../inputdata/mapping.xlsx'\n",
    "sheet_name_sources = 'Sources'\n",
    "sheet_name_targets = 'Target'\n",
    "df_sources = pd.read_excel(excel_file, sheet_name=sheet_name_sources)\n",
    "df_targets = pd.read_excel(excel_file, sheet_name=sheet_name_targets)\n",
    "\n",
    "# Convert the table DataFrame to a list of dictionaries\n",
    "json_data_sources = df_sources.to_json(orient='records')\n",
    "json_data_targets = df_targets.to_json(orient='records')\n",
    "prompt = \"Can you create a big query sql that uses the sources and maps to the target definition. please ensure left joins to the main identifier table \\n Json for the Sources =\" + json_data_sources + \" \\n Json for the Targets = \" + json_data_targets\n"
   ]
  }
 ],
 "metadata": {
  "language_info": {
   "name": "python"
  }
 },
 "nbformat": 4,
 "nbformat_minor": 2
}
