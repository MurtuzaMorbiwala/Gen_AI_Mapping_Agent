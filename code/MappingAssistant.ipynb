{
 "cells": [
  {
   "cell_type": "code",
   "execution_count": null,
   "metadata": {},
   "outputs": [],
   "source": [
    "import pandas as pd\n",
    "import json\n",
    "import os\n",
    "\n",
    "# Read the Excel file into a DataFrame\n",
    "excel_file = '../inputdata/mapping.xlsx'\n",
    "sheet_name_sources = 'Sources'\n",
    "sheet_name_targets = 'Target'\n",
    "df_sources = pd.read_excel(excel_file, sheet_name=sheet_name_sources)\n",
    "df_targets = pd.read_excel(excel_file, sheet_name=sheet_name_targets)\n",
    "\n",
    "# Convert the table DataFrame to a list of dictionaries\n",
    "json_data_sources = df_sources.to_json(orient='records')\n",
    "json_data_targets = df_targets.to_json(orient='records')\n",
    "prompt = \"Can you create a big query sql that uses the sources and maps to the target definition. please ensure left joins to the main identifier table \\n Json for the Sources =\" + json_data_sources + \" \\n Json for the Targets = \" + json_data_targets"
   ]
  },
  {
   "cell_type": "code",
   "execution_count": null,
   "metadata": {},
   "outputs": [],
   "source": [
    "import os\n",
    "from dotenv import load_dotenv\n",
    "\n",
    "# Load the environment variables from the .env file\n",
    "load_dotenv()\n",
    "\n",
    "# Access the API key\n",
    "api_key = os.getenv('GEMINI_API_KEY')\n",
    "\n",
    "import os\n",
    "import requests\n",
    "\n",
    "\n",
    "# Set the API endpoint and request body\n",
    "url = 'https://generativelanguage.googleapis.com/v1beta/models/gemini-pro:generateContent'\n",
    "payload = {\n",
    "    \"contents\": [\n",
    "        {\n",
    "            \"parts\": [\n",
    "                {\n",
    "                    \"text\": \"Explain how AI works\"\n",
    "                }\n",
    "            ]\n",
    "        }\n",
    "    ]\n",
    "}\n",
    "\n",
    "# Make the API request\n",
    "headers = {\n",
    "    'Content-Type': 'application/json'\n",
    "}\n",
    "response = requests.post(url, headers=headers, json=payload, params={'key': api_key})\n",
    "\n",
    "# Check the response\n",
    "if response.status_code == 200:\n",
    "    print(response.json())\n",
    "else:\n",
    "    print(f'Error: {response.status_code} - {response.text}')\n"
   ]
  }
 ],
 "metadata": {
  "kernelspec": {
   "display_name": "mainenv",
   "language": "python",
   "name": "python3"
  },
  "language_info": {
   "name": "python",
   "version": "3.10.10"
  }
 },
 "nbformat": 4,
 "nbformat_minor": 2
}
